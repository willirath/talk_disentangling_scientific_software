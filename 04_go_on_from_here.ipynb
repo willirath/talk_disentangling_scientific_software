{
 "cells": [
  {
   "cell_type": "markdown",
   "metadata": {},
   "source": [
    "# Going on from here\n",
    "\n",
    "This could be your homework."
   ]
  },
  {
   "cell_type": "markdown",
   "metadata": {},
   "source": [
    "## Idea 1: Add a component\n",
    "\n",
    "We could implement a physical field (temperature) that lives on a separate worker and can be queried for the value of the physical field at a given position (or an array of positions."
   ]
  },
  {
   "cell_type": "markdown",
   "metadata": {},
   "source": [
    "## Idea 2: Optimize layout based on computational cost / other constraints\n",
    "\n",
    "We could estimate the computational cost (per iteration) of each component, and optimize the model for certain conditions (communication bandwidth, ...).  Optimization could be done along the following lines:\n",
    "\n",
    "- Adding more resources (CPU, RAM) to more expensive components, taking away resources from other components.\n",
    "- Adding more instances of expensive components.\n",
    "- ..."
   ]
  },
  {
   "cell_type": "markdown",
   "metadata": {},
   "source": [
    "## Idea 3: Develop a reproducible parallelized random number generator\n",
    "\n",
    "It is possible that we want to use more than one group of particles that all share a random number generator.  As the evolution of each group of particles is not necessarily synchronized, we'll see race conditions leading to non-reproducible sequences of random numbers per particle.  (See rule 6 from [Sandve et al. (2013)] to learn why this is a problem.)\n",
    "\n",
    "Can you design a random number generator that can handle different particle groups in a reproducible way?"
   ]
  },
  {
   "cell_type": "markdown",
   "metadata": {},
   "source": [
    "## Idea N: Feel free to insert your Idea here\n",
    "\n",
    "\n"
   ]
  }
 ],
 "metadata": {
  "kernelspec": {
   "display_name": "Python [conda env:disentangling-scisoft]",
   "language": "python",
   "name": "conda-env-disentangling-scisoft-py"
  },
  "language_info": {
   "codemirror_mode": {
    "name": "ipython",
    "version": 3
   },
   "file_extension": ".py",
   "mimetype": "text/x-python",
   "name": "python",
   "nbconvert_exporter": "python",
   "pygments_lexer": "ipython3",
   "version": "3.7.3"
  }
 },
 "nbformat": 4,
 "nbformat_minor": 4
}
