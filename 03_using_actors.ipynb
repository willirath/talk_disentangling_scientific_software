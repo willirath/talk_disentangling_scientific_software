{
 "cells": [
  {
   "cell_type": "markdown",
   "metadata": {},
   "source": [
    "# Distribute\n",
    "\n",
    "Now that we have separated our problem, let's distribute the pieces.\n",
    "\n",
    "We'll use [Dask.distributed](https://distributed.dask.org/) for distributed computing and [actors](https://distributed.dask.org/en/latest/actors.html).  More on actors [here](https://en.wikipedia.org/wiki/Actor_model)."
   ]
  },
  {
   "cell_type": "markdown",
   "metadata": {},
   "source": [
    "## Create a Dask cluster\n",
    "\n",
    "We'll have four workers with 1 thread each that will host different parts of our physical model."
   ]
  },
  {
   "cell_type": "code",
   "execution_count": 1,
   "metadata": {},
   "outputs": [
    {
     "data": {
      "text/html": [
       "<table style=\"border: 2px solid white;\">\n",
       "<tr>\n",
       "<td style=\"vertical-align: top; border: 0px solid white\">\n",
       "<h3 style=\"text-align: left;\">Client</h3>\n",
       "<ul style=\"text-align: left; list-style: none; margin: 0; padding: 0;\">\n",
       "  <li><b>Scheduler: </b>tcp://127.0.0.1:61100</li>\n",
       "  <li><b>Dashboard: </b><a href='http://127.0.0.1:8787/status' target='_blank'>http://127.0.0.1:8787/status</a>\n",
       "</ul>\n",
       "</td>\n",
       "<td style=\"vertical-align: top; border: 0px solid white\">\n",
       "<h3 style=\"text-align: left;\">Cluster</h3>\n",
       "<ul style=\"text-align: left; list-style:none; margin: 0; padding: 0;\">\n",
       "  <li><b>Workers: </b>4</li>\n",
       "  <li><b>Cores: </b>4</li>\n",
       "  <li><b>Memory: </b>4.00 GB</li>\n",
       "</ul>\n",
       "</td>\n",
       "</tr>\n",
       "</table>"
      ],
      "text/plain": [
       "<Client: 'tcp://127.0.0.1:61100' processes=4 threads=4, memory=4.00 GB>"
      ]
     },
     "execution_count": 1,
     "metadata": {},
     "output_type": "execute_result"
    }
   ],
   "source": [
    "from dask.distributed import Client\n",
    "\n",
    "client = Client(n_workers=4, threads_per_worker=1, memory_limit=1e9)\n",
    "client"
   ]
  },
  {
   "cell_type": "markdown",
   "metadata": {},
   "source": [
    "## Space, particles, and random numbers\n",
    "\n",
    "The following is largely identical to what we did in [02_separation-Copy1.ipynb](02_separation-Copy1.ipynb)."
   ]
  },
  {
   "cell_type": "code",
   "execution_count": 2,
   "metadata": {},
   "outputs": [],
   "source": [
    "import numpy as np\n",
    "import pandas as pd"
   ]
  },
  {
   "cell_type": "markdown",
   "metadata": {},
   "source": [
    "The spatial domain doesn't call anything.  It's identical to the earlier implementation."
   ]
  },
  {
   "cell_type": "code",
   "execution_count": 3,
   "metadata": {},
   "outputs": [],
   "source": [
    "class PeriodicSpace:\n",
    "    def __init__(self, length_x=10, length_y=20):\n",
    "        self.length_y = length_y\n",
    "        self.length_x = length_x\n",
    "        \n",
    "    def __str__(self):\n",
    "        return (\n",
    "            f\"PeriodicSpace(\"\n",
    "            f\"length_x={self.length_x}, \"\n",
    "            f\"length_y={self.length_y}\"\n",
    "            f\")\"\n",
    "        )\n",
    "\n",
    "    def apply_periodicity(self, y, x):\n",
    "        return np.mod(y, self.length_y), np.mod(x, self.length_x)\n",
    "    \n",
    "    def get_center(self):\n",
    "        return self.length_x / 2.0, self.length_y / 2.0"
   ]
  },
  {
   "cell_type": "markdown",
   "metadata": {},
   "source": [
    "Each particle calls the spatial domain.  In distributed mode, we'll have to make sure that we get the `.result()` from the [`Future` objects](https://docs.python.org/3/library/concurrent.futures.html#future-objects) returned when calling methods on actors."
   ]
  },
  {
   "cell_type": "code",
   "execution_count": 4,
   "metadata": {},
   "outputs": [],
   "source": [
    "class Particle:\n",
    "    def __init__(\n",
    "        self,\n",
    "        rng=np.random.RandomState(),\n",
    "        space=PeriodicSpace(),\n",
    "        x=0, y=0,\n",
    "        particle_id=0,\n",
    "        step_length=0.5\n",
    "    ):\n",
    "        self.rng = rng\n",
    "        self.space = space\n",
    "        self.particle_id = particle_id\n",
    "        self.x, self.y = x, y\n",
    "        self.step_length = step_length\n",
    "        \n",
    "    def __str__(self):\n",
    "        return (\n",
    "            f\"Particle(\"\n",
    "            f\"space={self.space}, \"\n",
    "            f\"rng={self.rng}, \"\n",
    "            f\"particle_id={self.particle_id}, \"\n",
    "            f\"x={self.x}, y={self.y}, \"\n",
    "            f\"step_length={self.step_length}\"\n",
    "            \")\"\n",
    "        )\n",
    "\n",
    "    def move(self):\n",
    "        # NOTE the .result() calls!\n",
    "        self.x += self.step_length * self.rng.normal().result()\n",
    "        self.y += self.step_length * self.rng.normal().result()\n",
    "        \n",
    "        self.y, self.x = self.space.apply_periodicity(self.y, self.x).result()"
   ]
  },
  {
   "cell_type": "markdown",
   "metadata": {},
   "source": [
    "The group of particles calls the spatial domain to learn where the center of the domain is.  Again, we need to obtain the actual return values with `.result()`."
   ]
  },
  {
   "cell_type": "code",
   "execution_count": 5,
   "metadata": {},
   "outputs": [],
   "source": [
    "class ParticleGroup:\n",
    "    def __init__(\n",
    "        self,\n",
    "        rng=np.random.RandomState(),\n",
    "        space=PeriodicSpace(),\n",
    "        number_particles=100,\n",
    "        step_length=0.5\n",
    "    ):\n",
    "        self.steps_done = 0\n",
    "        self.rng = rng\n",
    "        self.space = space\n",
    "        # Note .result() call!\n",
    "        x, y = space.get_center().result()\n",
    "        self.particles = [\n",
    "            Particle(\n",
    "                particle_id=n, rng=rng, space=space,\n",
    "                x=x, y=y,\n",
    "                step_length=step_length\n",
    "            )\n",
    "            for n in range(number_particles)\n",
    "        ]\n",
    "\n",
    "    def __str__(self):\n",
    "        return (\n",
    "            f\"ParticleGroup(\"\n",
    "            f\"rng={self.rng}, \"\n",
    "            f\"space={self.space}, \"\n",
    "            f\"number_particles={len(self.particles)}\"\n",
    "            \")\"\n",
    "        )\n",
    "        \n",
    "    def move(self, N=1, step=1):\n",
    "        self.steps_done += 1\n",
    "        [p.move() for p in self.particles]\n",
    "        \n",
    "    def positions(self):\n",
    "        x = np.array([p.x for p in self.particles])\n",
    "        y = np.array([p.y for p in self.particles])\n",
    "        return x, y\n",
    "\n",
    "    def center_of_mass(self):\n",
    "        x, y = self.positions()\n",
    "        return x.mean(), y.mean()\n",
    "    \n",
    "    def moment_of_inertia(self):\n",
    "        x, y = self.positions()\n",
    "        return x.var() + y.var()\n",
    "\n",
    "    def diagnostics_df(self):\n",
    "        com = self.center_of_mass()\n",
    "        mi = self.moment_of_inertia()\n",
    "        return pd.DataFrame(\n",
    "            {\n",
    "                \"center_of_mass_x\": com[0],\n",
    "                \"center_of_mass_y\": com[1],\n",
    "                \"moment_of_inertia\": mi\n",
    "            },\n",
    "            index=[self.steps_done, ],\n",
    "        \n",
    "        )\n",
    "    \n",
    "    def positions_df(self):\n",
    "        x, y = self.positions()\n",
    "        return pd.DataFrame(\n",
    "            {\"x\": x, \"y\": y},\n",
    "            index=range(len(x))\n",
    "        )"
   ]
  },
  {
   "cell_type": "markdown",
   "metadata": {},
   "source": [
    "## Submit space, rng and group of particles to the cluster"
   ]
  },
  {
   "cell_type": "code",
   "execution_count": 6,
   "metadata": {},
   "outputs": [],
   "source": [
    "space = client.submit(\n",
    "    PeriodicSpace,\n",
    "    length_x=10,\n",
    "    length_y=20,\n",
    "    actor=True,\n",
    "    pure=False\n",
    ").result()"
   ]
  },
  {
   "cell_type": "code",
   "execution_count": 7,
   "metadata": {},
   "outputs": [],
   "source": [
    "rng = client.submit(\n",
    "    np.random.RandomState, actor=True, pure=False\n",
    ").result()"
   ]
  },
  {
   "cell_type": "code",
   "execution_count": 8,
   "metadata": {},
   "outputs": [],
   "source": [
    "particles = client.submit(\n",
    "    ParticleGroup, space=space, rng=rng,\n",
    "    actor=True, pure=False\n",
    ").result()"
   ]
  },
  {
   "cell_type": "markdown",
   "metadata": {},
   "source": [
    "## Plot initial positions"
   ]
  },
  {
   "cell_type": "code",
   "execution_count": 9,
   "metadata": {},
   "outputs": [],
   "source": [
    "particles.positions_df().result().plot.scatter(x=\"x\", y=\"y\");"
   ]
  },
  {
   "cell_type": "markdown",
   "metadata": {},
   "source": [
    "## Run the main loop"
   ]
  },
  {
   "cell_type": "code",
   "execution_count": 10,
   "metadata": {},
   "outputs": [],
   "source": [
    "diags = particles.diagnostics_df().result()\n",
    "    \n",
    "for step in range(1, 100):\n",
    "    particles.move().result()\n",
    "\n",
    "    diags = diags.append(\n",
    "        particles.diagnostics_df().result()\n",
    "    )"
   ]
  },
  {
   "cell_type": "markdown",
   "metadata": {},
   "source": [
    "## Plot data"
   ]
  },
  {
   "cell_type": "code",
   "execution_count": 11,
   "metadata": {},
   "outputs": [
    {
     "data": {
      "image/png": "[encoded data removed]",
      "text/plain": [
       "<Figure size 432x288 with 1 Axes>"
      ]
     },
     "metadata": {
      "needs_background": "light"
     },
     "output_type": "display_data"
    }
   ],
   "source": [
    "diags.plot();"
   ]
  },
  {
   "cell_type": "code",
   "execution_count": 12,
   "metadata": {},
   "outputs": [
    {
     "data": {
      "image/png": "[encoded data removed]",
      "text/plain": [
       "<Figure size 432x288 with 1 Axes>"
      ]
     },
     "metadata": {
      "needs_background": "light"
     },
     "output_type": "display_data"
    }
   ],
   "source": [
    "particles.positions_df().result().plot.scatter(x=\"x\", y=\"y\");"
   ]
  }
 ],
 "metadata": {
  "kernelspec": {
   "display_name": "Python [conda env:disentangling-scisoft]",
   "language": "python",
   "name": "conda-env-disentangling-scisoft-py"
  },
  "language_info": {
   "codemirror_mode": {
    "name": "ipython",
    "version": 3
   },
   "file_extension": ".py",
   "mimetype": "text/x-python",
   "name": "python",
   "nbconvert_exporter": "python",
   "pygments_lexer": "ipython3",
   "version": "3.7.3"
  }
 },
 "nbformat": 4,
 "nbformat_minor": 4
}
