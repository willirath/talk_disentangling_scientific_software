{
 "cells": [
  {
   "cell_type": "markdown",
   "metadata": {},
   "source": [
    "# Separation\n",
    "\n",
    "Let's think about the essential pieces here:\n",
    "- a group of particles\n",
    "    - particles can be moved\n",
    "    - diagnostic for center of mass\n",
    "    - diagnostic for moment of inertia\n",
    "- a random number generator\n",
    "- a periodic 2d domain"
   ]
  },
  {
   "cell_type": "code",
   "execution_count": 1,
   "metadata": {},
   "outputs": [],
   "source": [
    "%matplotlib inline\n",
    "import numpy as np\n",
    "import pandas as pd"
   ]
  },
  {
   "cell_type": "code",
   "execution_count": 2,
   "metadata": {},
   "outputs": [],
   "source": [
    "class PeriodicSpace:\n",
    "    def __init__(self, length_x=10, length_y=20):\n",
    "        self.length_y = length_y\n",
    "        self.length_x = length_x\n",
    "        \n",
    "    def normalize_positions(self, x, y):\n",
    "        return np.mod(x, self.length_x), np.mod(y, self.length_y)"
   ]
  },
  {
   "cell_type": "code",
   "execution_count": 3,
   "metadata": {},
   "outputs": [],
   "source": [
    "class Particles:\n",
    "    def __init__(\n",
    "        self,\n",
    "        rng=np.random.RandomState(),\n",
    "        space=PeriodicSpace(),\n",
    "        x=None, y=None,\n",
    "        step_length=0.5\n",
    "    ):\n",
    "        self.rng = rng\n",
    "        self.space = space\n",
    "        self.x, self.y = x, y\n",
    "        self.step_length = step_length\n",
    "        self.steps_done = 0\n",
    "\n",
    "    def move(self):\n",
    "        self.x += self.step_length * self.rng.normal(size=self.x.shape)\n",
    "        self.y += self.step_length * self.rng.normal(size=self.y.shape)\n",
    "        \n",
    "        self.x, self.y = self.space.normalize_positions(self.x, self.y)\n",
    "        \n",
    "        self.steps_done += 1\n",
    "\n",
    "    def center_of_mass(self):\n",
    "        return self.x.mean(), self.y.mean()\n",
    "    \n",
    "    def moment_of_inertia(self):\n",
    "        return self.x.var() + self.y.var()\n",
    "\n",
    "    def diagnostics(self):\n",
    "        com = self.center_of_mass()\n",
    "        mi = self.moment_of_inertia()\n",
    "        return pd.DataFrame(\n",
    "            {\n",
    "                \"center_of_mass_x\": com[0],\n",
    "                \"center_of_mass_y\": com[1],\n",
    "                \"moment_of_inertia\": mi\n",
    "            },\n",
    "            index=[self.steps_done, ],\n",
    "        \n",
    "        )"
   ]
  },
  {
   "cell_type": "code",
   "execution_count": 4,
   "metadata": {},
   "outputs": [],
   "source": [
    "def run_random_walk(\n",
    "    length_x=10,\n",
    "    length_y=20,\n",
    "    number_particles=100,\n",
    "    number_steps=100,\n",
    "    step_length=0.5\n",
    "):\n",
    "    space = PeriodicSpace(\n",
    "        length_x=length_x,\n",
    "        length_y=length_y\n",
    "    )\n",
    "    \n",
    "    rng = np.random.RandomState()\n",
    "    \n",
    "    particles = Particles(\n",
    "        space=space,\n",
    "        rng=rng,\n",
    "        x=np.ones((number_particles, )) * length_x / 2.0,\n",
    "        y=np.ones((number_particles, )) * length_y / 2.0,        \n",
    "        step_length=step_length\n",
    "    )\n",
    "    \n",
    "    diags = particles.diagnostics()\n",
    "    \n",
    "    for step in range(1, number_steps):\n",
    "        particles.move()\n",
    "        \n",
    "        diags = diags.append(\n",
    "            particles.diagnostics(),\n",
    "            ignore_index=True\n",
    "        )\n",
    "        \n",
    "    return diags"
   ]
  },
  {
   "cell_type": "code",
   "execution_count": 5,
   "metadata": {},
   "outputs": [],
   "source": [
    "diags = run_random_walk(number_particles=100, number_steps=1000)"
   ]
  },
  {
   "cell_type": "code",
   "execution_count": 6,
   "metadata": {},
   "outputs": [
    {
     "data": {
      "text/html": [
       "<div>\n",
       "<style scoped>\n",
       "    .dataframe tbody tr th:only-of-type {\n",
       "        vertical-align: middle;\n",
       "    }\n",
       "\n",
       "    .dataframe tbody tr th {\n",
       "        vertical-align: top;\n",
       "    }\n",
       "\n",
       "    .dataframe thead th {\n",
       "        text-align: right;\n",
       "    }\n",
       "</style>\n",
       "<table border=\"1\" class=\"dataframe\">\n",
       "  <thead>\n",
       "    <tr style=\"text-align: right;\">\n",
       "      <th></th>\n",
       "      <th>center_of_mass_x</th>\n",
       "      <th>center_of_mass_y</th>\n",
       "      <th>moment_of_inertia</th>\n",
       "    </tr>\n",
       "  </thead>\n",
       "  <tbody>\n",
       "    <tr>\n",
       "      <td>0</td>\n",
       "      <td>5.000000</td>\n",
       "      <td>10.000000</td>\n",
       "      <td>0.000000</td>\n",
       "    </tr>\n",
       "    <tr>\n",
       "      <td>1</td>\n",
       "      <td>5.014128</td>\n",
       "      <td>10.030684</td>\n",
       "      <td>0.561107</td>\n",
       "    </tr>\n",
       "    <tr>\n",
       "      <td>2</td>\n",
       "      <td>4.983013</td>\n",
       "      <td>10.043657</td>\n",
       "      <td>0.997435</td>\n",
       "    </tr>\n",
       "    <tr>\n",
       "      <td>3</td>\n",
       "      <td>5.017215</td>\n",
       "      <td>9.991422</td>\n",
       "      <td>1.263850</td>\n",
       "    </tr>\n",
       "    <tr>\n",
       "      <td>4</td>\n",
       "      <td>4.950674</td>\n",
       "      <td>9.994803</td>\n",
       "      <td>1.866875</td>\n",
       "    </tr>\n",
       "    <tr>\n",
       "      <td>...</td>\n",
       "      <td>...</td>\n",
       "      <td>...</td>\n",
       "      <td>...</td>\n",
       "    </tr>\n",
       "    <tr>\n",
       "      <td>995</td>\n",
       "      <td>4.740809</td>\n",
       "      <td>10.570497</td>\n",
       "      <td>38.339937</td>\n",
       "    </tr>\n",
       "    <tr>\n",
       "      <td>996</td>\n",
       "      <td>4.884953</td>\n",
       "      <td>10.612616</td>\n",
       "      <td>37.614913</td>\n",
       "    </tr>\n",
       "    <tr>\n",
       "      <td>997</td>\n",
       "      <td>4.843924</td>\n",
       "      <td>10.569919</td>\n",
       "      <td>38.128512</td>\n",
       "    </tr>\n",
       "    <tr>\n",
       "      <td>998</td>\n",
       "      <td>4.788570</td>\n",
       "      <td>10.621142</td>\n",
       "      <td>38.125898</td>\n",
       "    </tr>\n",
       "    <tr>\n",
       "      <td>999</td>\n",
       "      <td>4.795125</td>\n",
       "      <td>10.246163</td>\n",
       "      <td>38.410671</td>\n",
       "    </tr>\n",
       "  </tbody>\n",
       "</table>\n",
       "<p>1000 rows × 3 columns</p>\n",
       "</div>"
      ],
      "text/plain": [
       "     center_of_mass_x  center_of_mass_y  moment_of_inertia\n",
       "0            5.000000         10.000000           0.000000\n",
       "1            5.014128         10.030684           0.561107\n",
       "2            4.983013         10.043657           0.997435\n",
       "3            5.017215          9.991422           1.263850\n",
       "4            4.950674          9.994803           1.866875\n",
       "..                ...               ...                ...\n",
       "995          4.740809         10.570497          38.339937\n",
       "996          4.884953         10.612616          37.614913\n",
       "997          4.843924         10.569919          38.128512\n",
       "998          4.788570         10.621142          38.125898\n",
       "999          4.795125         10.246163          38.410671\n",
       "\n",
       "[1000 rows x 3 columns]"
      ]
     },
     "execution_count": 6,
     "metadata": {},
     "output_type": "execute_result"
    }
   ],
   "source": [
    "diags"
   ]
  },
  {
   "cell_type": "code",
   "execution_count": 7,
   "metadata": {},
   "outputs": [
    {
     "data": {
      "image/png": "[encoded data removed]",
      "text/plain": [
       "<Figure size 432x288 with 1 Axes>"
      ]
     },
     "metadata": {
      "needs_background": "light"
     },
     "output_type": "display_data"
    }
   ],
   "source": [
    "diags.plot();"
   ]
  }
 ],
 "metadata": {
  "kernelspec": {
   "display_name": "Python [conda env:climnum-exercise]",
   "language": "python",
   "name": "conda-env-climnum-exercise-py"
  },
  "language_info": {
   "codemirror_mode": {
    "name": "ipython",
    "version": 3
   },
   "file_extension": ".py",
   "mimetype": "text/x-python",
   "name": "python",
   "nbconvert_exporter": "python",
   "pygments_lexer": "ipython3",
   "version": "3.7.4"
  }
 },
 "nbformat": 4,
 "nbformat_minor": 4
}
