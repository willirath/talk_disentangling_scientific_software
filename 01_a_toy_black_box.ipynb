{
 "cells": [
  {
   "cell_type": "markdown",
   "metadata": {},
   "source": [
    "# A toy model\n",
    "\n",
    "Let's run a random walk (a bunch of particles moving randomly) in a periodic 2-dimensional domain (a torus), and let's diagnose their center of mass (mean of all  positions) and moment of inertia (variance of all positions) after each move."
   ]
  },
  {
   "cell_type": "markdown",
   "metadata": {},
   "source": [
    "## Tech preamble"
   ]
  },
  {
   "cell_type": "code",
   "execution_count": 1,
   "metadata": {},
   "outputs": [],
   "source": [
    "%matplotlib inline\n",
    "import numpy as np\n",
    "from matplotlib import pyplot as plt\n",
    "import pandas as pd"
   ]
  },
  {
   "cell_type": "markdown",
   "metadata": {},
   "source": [
    "## A typical piece of scientific software\n",
    "\n",
    "Typical scientific software looks like this: There's a piece of code that does it all. There are hardly any abstractions. Dependencies are hard to figure out, etc.\n",
    "\n",
    "See for example [Johanson and Hasselbring (2018)](https://ieeexplore.ieee.org/document/8254315) for an overview of the state of scientific software."
   ]
  },
  {
   "cell_type": "code",
   "execution_count": 2,
   "metadata": {},
   "outputs": [],
   "source": [
    "def run_random_walk(\n",
    "    length_x=10,\n",
    "    length_y=20,\n",
    "    number_particles=100,\n",
    "    number_steps=100,\n",
    "    step_length=0.5\n",
    "): \n",
    "    # initialize particle positions\n",
    "    x = np.full((number_particles, ), length_x / 2)\n",
    "    y = np.full((number_particles, ), length_y / 2)\n",
    "\n",
    "    # initialize diagnostics\n",
    "    center_of_mass_x = np.empty((number_steps, ))\n",
    "    center_of_mass_x[0] = x.mean()\n",
    "    \n",
    "    center_of_mass_y = np.empty((number_steps, ))\n",
    "    center_of_mass_y[0] = y.mean()\n",
    "    \n",
    "    moment_of_inertia = np.empty((number_steps, ))\n",
    "    moment_of_inertia[0] = x.var() + y.var()   \n",
    "    \n",
    "    # main loop\n",
    "    for step in range(number_steps - 1):\n",
    "        x += step_length * (\n",
    "            np.random.normal(size=(number_particles, ))\n",
    "        )\n",
    "        x = np.mod(x, length_x)\n",
    "\n",
    "        y += step_length * (\n",
    "            np.random.normal(size=(number_particles, ))\n",
    "        )\n",
    "        y = np.mod(y, length_y)\n",
    "\n",
    "        center_of_mass_x[step+1] = x.mean()\n",
    "        center_of_mass_y[step+1] = y.mean()\n",
    "        moment_of_inertia[step+1] = x.var() + y.var()\n",
    "    \n",
    "    return center_of_mass_x, center_of_mass_y, moment_of_inertia, x, y"
   ]
  },
  {
   "cell_type": "markdown",
   "metadata": {},
   "source": [
    "But the typical user of scientific software doesn't look at this anyway. They see:"
   ]
  },
  {
   "cell_type": "code",
   "execution_count": 3,
   "metadata": {},
   "outputs": [],
   "source": [
    "(\n",
    "    center_of_mass_x, center_of_mass_y,\n",
    "    moment_of_inertia,\n",
    "    x, y\n",
    ") = run_random_walk(number_steps=1000)"
   ]
  },
  {
   "cell_type": "markdown",
   "metadata": {},
   "source": [
    "## Data and visualizations\n",
    "\n",
    "And then, they look at data:"
   ]
  },
  {
   "cell_type": "code",
   "execution_count": 4,
   "metadata": {},
   "outputs": [
    {
     "data": {
      "image/png": "[encoded data removed]",
      "text/plain": [
       "<Figure size 432x288 with 1 Axes>"
      ]
     },
     "metadata": {
      "needs_background": "light"
     },
     "output_type": "display_data"
    }
   ],
   "source": [
    "plt.scatter(x, y);"
   ]
  },
  {
   "cell_type": "code",
   "execution_count": 5,
   "metadata": {},
   "outputs": [
    {
     "data": {
      "text/html": [
       "<div>\n",
       "<style scoped>\n",
       "    .dataframe tbody tr th:only-of-type {\n",
       "        vertical-align: middle;\n",
       "    }\n",
       "\n",
       "    .dataframe tbody tr th {\n",
       "        vertical-align: top;\n",
       "    }\n",
       "\n",
       "    .dataframe thead th {\n",
       "        text-align: right;\n",
       "    }\n",
       "</style>\n",
       "<table border=\"1\" class=\"dataframe\">\n",
       "  <thead>\n",
       "    <tr style=\"text-align: right;\">\n",
       "      <th></th>\n",
       "      <th>center_of_mass_x</th>\n",
       "      <th>center_of_mass_y</th>\n",
       "      <th>moment_of_inertia</th>\n",
       "    </tr>\n",
       "    <tr>\n",
       "      <th>step</th>\n",
       "      <th></th>\n",
       "      <th></th>\n",
       "      <th></th>\n",
       "    </tr>\n",
       "  </thead>\n",
       "  <tbody>\n",
       "    <tr>\n",
       "      <td>0</td>\n",
       "      <td>5.000000</td>\n",
       "      <td>10.000000</td>\n",
       "      <td>0.000000</td>\n",
       "    </tr>\n",
       "    <tr>\n",
       "      <td>1</td>\n",
       "      <td>4.976764</td>\n",
       "      <td>10.077956</td>\n",
       "      <td>0.448184</td>\n",
       "    </tr>\n",
       "    <tr>\n",
       "      <td>2</td>\n",
       "      <td>4.906573</td>\n",
       "      <td>10.055832</td>\n",
       "      <td>0.950142</td>\n",
       "    </tr>\n",
       "    <tr>\n",
       "      <td>3</td>\n",
       "      <td>4.917229</td>\n",
       "      <td>10.096890</td>\n",
       "      <td>1.571212</td>\n",
       "    </tr>\n",
       "    <tr>\n",
       "      <td>4</td>\n",
       "      <td>4.873878</td>\n",
       "      <td>10.093618</td>\n",
       "      <td>2.276138</td>\n",
       "    </tr>\n",
       "    <tr>\n",
       "      <td>...</td>\n",
       "      <td>...</td>\n",
       "      <td>...</td>\n",
       "      <td>...</td>\n",
       "    </tr>\n",
       "    <tr>\n",
       "      <td>995</td>\n",
       "      <td>5.552990</td>\n",
       "      <td>10.882198</td>\n",
       "      <td>46.604325</td>\n",
       "    </tr>\n",
       "    <tr>\n",
       "      <td>996</td>\n",
       "      <td>5.250382</td>\n",
       "      <td>10.810701</td>\n",
       "      <td>47.134947</td>\n",
       "    </tr>\n",
       "    <tr>\n",
       "      <td>997</td>\n",
       "      <td>5.060288</td>\n",
       "      <td>10.505201</td>\n",
       "      <td>48.048083</td>\n",
       "    </tr>\n",
       "    <tr>\n",
       "      <td>998</td>\n",
       "      <td>5.264641</td>\n",
       "      <td>10.283856</td>\n",
       "      <td>47.273895</td>\n",
       "    </tr>\n",
       "    <tr>\n",
       "      <td>999</td>\n",
       "      <td>5.378520</td>\n",
       "      <td>10.127725</td>\n",
       "      <td>47.361438</td>\n",
       "    </tr>\n",
       "  </tbody>\n",
       "</table>\n",
       "<p>1000 rows × 3 columns</p>\n",
       "</div>"
      ],
      "text/plain": [
       "      center_of_mass_x  center_of_mass_y  moment_of_inertia\n",
       "step                                                       \n",
       "0             5.000000         10.000000           0.000000\n",
       "1             4.976764         10.077956           0.448184\n",
       "2             4.906573         10.055832           0.950142\n",
       "3             4.917229         10.096890           1.571212\n",
       "4             4.873878         10.093618           2.276138\n",
       "...                ...               ...                ...\n",
       "995           5.552990         10.882198          46.604325\n",
       "996           5.250382         10.810701          47.134947\n",
       "997           5.060288         10.505201          48.048083\n",
       "998           5.264641         10.283856          47.273895\n",
       "999           5.378520         10.127725          47.361438\n",
       "\n",
       "[1000 rows x 3 columns]"
      ]
     },
     "execution_count": 5,
     "metadata": {},
     "output_type": "execute_result"
    }
   ],
   "source": [
    "data = pd.DataFrame()\n",
    "data[\"center_of_mass_x\"] = center_of_mass_x\n",
    "data[\"center_of_mass_y\"] = center_of_mass_y\n",
    "data[\"moment_of_inertia\"] = moment_of_inertia\n",
    "data[\"step\"] = np.arange(len(data))\n",
    "data.set_index(\"step\")"
   ]
  },
  {
   "cell_type": "code",
   "execution_count": 6,
   "metadata": {},
   "outputs": [
    {
     "data": {
      "image/png": "[encoded data removed]",
      "text/plain": [
       "<Figure size 432x288 with 1 Axes>"
      ]
     },
     "metadata": {
      "needs_background": "light"
     },
     "output_type": "display_data"
    }
   ],
   "source": [
    "data.plot(x=\"step\");"
   ]
  }
 ],
 "metadata": {
  "kernelspec": {
   "display_name": "Python [conda env:climnum-exercise]",
   "language": "python",
   "name": "conda-env-climnum-exercise-py"
  },
  "language_info": {
   "codemirror_mode": {
    "name": "ipython",
    "version": 3
   },
   "file_extension": ".py",
   "mimetype": "text/x-python",
   "name": "python",
   "nbconvert_exporter": "python",
   "pygments_lexer": "ipython3",
   "version": "3.7.4"
  }
 },
 "nbformat": 4,
 "nbformat_minor": 4
}
