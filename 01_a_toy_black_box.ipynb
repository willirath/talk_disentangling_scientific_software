{
 "cells": [
  {
   "cell_type": "markdown",
   "metadata": {},
   "source": [
    "# A toy black box\n",
    "\n",
    "Let's run a random walk (a bunch of particles jumping randomly) in a periodic 2-dimensional domain (a torus), and let's diagnose their center of mass (average position) and moment of inertia (variance of their positions) after each jump."
   ]
  },
  {
   "cell_type": "code",
   "execution_count": 1,
   "metadata": {},
   "outputs": [],
   "source": [
    "%matplotlib inline\n",
    "import numpy as np\n",
    "from matplotlib import pyplot as plt\n",
    "import pandas as pd"
   ]
  },
  {
   "cell_type": "markdown",
   "metadata": {},
   "source": [
    "Typical scientific software looks like this: There's a piece of code that does it all. There are hardly any abstractions. Dependencies are hard to figure out, etc."
   ]
  },
  {
   "cell_type": "code",
   "execution_count": 2,
   "metadata": {},
   "outputs": [],
   "source": [
    "def run_random_walk(\n",
    "    length_x=10,\n",
    "    length_y=20,\n",
    "    number_particles=100,\n",
    "    number_steps=100,\n",
    "    step_length=0.5\n",
    "): \n",
    "    # initialize particle positions\n",
    "    x = np.full((number_particles, ), length_x / 2)\n",
    "    y = np.full((number_particles, ), length_y / 2)\n",
    "\n",
    "    # initialize diagnostics\n",
    "    center_of_mass_x = np.empty((number_steps, ))\n",
    "    center_of_mass_x[0] = x.mean()\n",
    "    \n",
    "    center_of_mass_y = np.empty((number_steps, ))\n",
    "    center_of_mass_y[0] = y.mean()\n",
    "    \n",
    "    moment_of_inertia = np.empty((number_steps, ))\n",
    "    moment_of_inertia[0] = x.var() + y.var()   \n",
    "    \n",
    "    # main loop\n",
    "    for step in range(number_steps - 1):\n",
    "        x += step_length * (\n",
    "            np.random.normal(size=(number_particles, ))\n",
    "        )\n",
    "        x = np.mod(x, length_x)\n",
    "\n",
    "        y += step_length * (\n",
    "            np.random.normal(size=(number_particles, ))\n",
    "        )\n",
    "        y = np.mod(y, length_y)\n",
    "\n",
    "        center_of_mass_x[step+1] = x.mean()\n",
    "        center_of_mass_y[step+1] = y.mean()\n",
    "        moment_of_inertia[step+1] = x.var() + y.var()\n",
    "    \n",
    "    return center_of_mass_x, center_of_mass_y, moment_of_inertia, x, y"
   ]
  },
  {
   "cell_type": "markdown",
   "metadata": {},
   "source": [
    "But the typical user of scientific software doesn't look at this anyway. They see:"
   ]
  },
  {
   "cell_type": "code",
   "execution_count": 3,
   "metadata": {},
   "outputs": [],
   "source": [
    "(\n",
    "    center_of_mass_x, center_of_mass_y,\n",
    "    moment_of_inertia,\n",
    "    x, y\n",
    ") = run_random_walk(number_steps=1000)"
   ]
  },
  {
   "cell_type": "markdown",
   "metadata": {},
   "source": [
    "And then, they look at data:"
   ]
  },
  {
   "cell_type": "code",
   "execution_count": 4,
   "metadata": {},
   "outputs": [
    {
     "data": {
      "text/html": [
       "<div>\n",
       "<style scoped>\n",
       "    .dataframe tbody tr th:only-of-type {\n",
       "        vertical-align: middle;\n",
       "    }\n",
       "\n",
       "    .dataframe tbody tr th {\n",
       "        vertical-align: top;\n",
       "    }\n",
       "\n",
       "    .dataframe thead th {\n",
       "        text-align: right;\n",
       "    }\n",
       "</style>\n",
       "<table border=\"1\" class=\"dataframe\">\n",
       "  <thead>\n",
       "    <tr style=\"text-align: right;\">\n",
       "      <th></th>\n",
       "      <th>center_of_mass_x</th>\n",
       "      <th>center_of_mass_y</th>\n",
       "      <th>moment_of_inertia</th>\n",
       "    </tr>\n",
       "    <tr>\n",
       "      <th>step</th>\n",
       "      <th></th>\n",
       "      <th></th>\n",
       "      <th></th>\n",
       "    </tr>\n",
       "  </thead>\n",
       "  <tbody>\n",
       "    <tr>\n",
       "      <td>0</td>\n",
       "      <td>5.000000</td>\n",
       "      <td>10.000000</td>\n",
       "      <td>0.000000</td>\n",
       "    </tr>\n",
       "    <tr>\n",
       "      <td>1</td>\n",
       "      <td>4.937826</td>\n",
       "      <td>9.944660</td>\n",
       "      <td>0.556502</td>\n",
       "    </tr>\n",
       "    <tr>\n",
       "      <td>2</td>\n",
       "      <td>4.904485</td>\n",
       "      <td>9.971942</td>\n",
       "      <td>1.086390</td>\n",
       "    </tr>\n",
       "    <tr>\n",
       "      <td>3</td>\n",
       "      <td>4.923400</td>\n",
       "      <td>9.936071</td>\n",
       "      <td>1.617475</td>\n",
       "    </tr>\n",
       "    <tr>\n",
       "      <td>4</td>\n",
       "      <td>4.894775</td>\n",
       "      <td>9.992054</td>\n",
       "      <td>2.261305</td>\n",
       "    </tr>\n",
       "    <tr>\n",
       "      <td>...</td>\n",
       "      <td>...</td>\n",
       "      <td>...</td>\n",
       "      <td>...</td>\n",
       "    </tr>\n",
       "    <tr>\n",
       "      <td>995</td>\n",
       "      <td>4.783026</td>\n",
       "      <td>9.523111</td>\n",
       "      <td>43.626006</td>\n",
       "    </tr>\n",
       "    <tr>\n",
       "      <td>996</td>\n",
       "      <td>5.214035</td>\n",
       "      <td>9.515974</td>\n",
       "      <td>43.555432</td>\n",
       "    </tr>\n",
       "    <tr>\n",
       "      <td>997</td>\n",
       "      <td>4.955212</td>\n",
       "      <td>9.641126</td>\n",
       "      <td>44.066695</td>\n",
       "    </tr>\n",
       "    <tr>\n",
       "      <td>998</td>\n",
       "      <td>5.157123</td>\n",
       "      <td>9.812947</td>\n",
       "      <td>43.805013</td>\n",
       "    </tr>\n",
       "    <tr>\n",
       "      <td>999</td>\n",
       "      <td>5.405949</td>\n",
       "      <td>9.795748</td>\n",
       "      <td>42.064674</td>\n",
       "    </tr>\n",
       "  </tbody>\n",
       "</table>\n",
       "<p>1000 rows × 3 columns</p>\n",
       "</div>"
      ],
      "text/plain": [
       "      center_of_mass_x  center_of_mass_y  moment_of_inertia\n",
       "step                                                       \n",
       "0             5.000000         10.000000           0.000000\n",
       "1             4.937826          9.944660           0.556502\n",
       "2             4.904485          9.971942           1.086390\n",
       "3             4.923400          9.936071           1.617475\n",
       "4             4.894775          9.992054           2.261305\n",
       "...                ...               ...                ...\n",
       "995           4.783026          9.523111          43.626006\n",
       "996           5.214035          9.515974          43.555432\n",
       "997           4.955212          9.641126          44.066695\n",
       "998           5.157123          9.812947          43.805013\n",
       "999           5.405949          9.795748          42.064674\n",
       "\n",
       "[1000 rows x 3 columns]"
      ]
     },
     "execution_count": 4,
     "metadata": {},
     "output_type": "execute_result"
    }
   ],
   "source": [
    "data = pd.DataFrame()\n",
    "data[\"center_of_mass_x\"] = center_of_mass_x\n",
    "data[\"center_of_mass_y\"] = center_of_mass_y\n",
    "data[\"moment_of_inertia\"] = moment_of_inertia\n",
    "data[\"step\"] = np.arange(len(data))\n",
    "data.set_index(\"step\")"
   ]
  },
  {
   "cell_type": "code",
   "execution_count": 5,
   "metadata": {},
   "outputs": [
    {
     "data": {
      "image/png": "[encoded data removed]",
      "text/plain": [
       "<Figure size 432x288 with 1 Axes>"
      ]
     },
     "metadata": {
      "needs_background": "light"
     },
     "output_type": "display_data"
    }
   ],
   "source": [
    "data.plot(x=\"step\");"
   ]
  },
  {
   "cell_type": "code",
   "execution_count": 6,
   "metadata": {},
   "outputs": [
    {
     "data": {
      "image/png": "[encoded data removed]",
      "text/plain": [
       "<Figure size 432x288 with 1 Axes>"
      ]
     },
     "metadata": {
      "needs_background": "light"
     },
     "output_type": "display_data"
    }
   ],
   "source": [
    "plt.scatter(x, y);"
   ]
  }
 ],
 "metadata": {
  "kernelspec": {
   "display_name": "Python [conda env:climnum-exercise]",
   "language": "python",
   "name": "conda-env-climnum-exercise-py"
  },
  "language_info": {
   "codemirror_mode": {
    "name": "ipython",
    "version": 3
   },
   "file_extension": ".py",
   "mimetype": "text/x-python",
   "name": "python",
   "nbconvert_exporter": "python",
   "pygments_lexer": "ipython3",
   "version": "3.7.4"
  }
 },
 "nbformat": 4,
 "nbformat_minor": 4
}
